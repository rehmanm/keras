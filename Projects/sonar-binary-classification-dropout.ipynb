{
 "cells": [
  {
   "cell_type": "code",
   "execution_count": 1,
   "metadata": {},
   "outputs": [
    {
     "name": "stderr",
     "output_type": "stream",
     "text": [
      "/usr/local/lib/python3.5/dist-packages/h5py/__init__.py:36: FutureWarning: Conversion of the second argument of issubdtype from `float` to `np.floating` is deprecated. In future, it will be treated as `np.float64 == np.dtype(float).type`.\n",
      "  from ._conv import register_converters as _register_converters\n"
     ]
    }
   ],
   "source": [
    "import numpy\n",
    "import pandas\n",
    "import tensorflow as tf\n",
    " \n",
    "from sklearn.model_selection import cross_val_score\n",
    "from sklearn.preprocessing import LabelEncoder\n",
    "from sklearn.model_selection import StratifiedKFold\n",
    "from sklearn.preprocessing import StandardScaler\n",
    "from sklearn.pipeline import Pipeline\n",
    "from sklearn.model_selection import train_test_split\n",
    "from sklearn.model_selection import cross_val_predict\n",
    "from sklearn import metrics\n",
    "\n",
    "models =  tf.keras.models\n",
    "layers = tf.keras.layers \n",
    "scikit_learn = tf.keras.wrappers.scikit_learn\n",
    "\n"
   ]
  },
  {
   "cell_type": "code",
   "execution_count": 2,
   "metadata": {},
   "outputs": [],
   "source": [
    "Sequential = models.Sequential\n",
    "Dense = layers.Dense\n",
    "KerasClassifier = scikit_learn.KerasClassifier\n",
    "to_categorical = tf.keras.utils.to_categorical\n",
    "SGD = tf.keras.optimizers.SGD"
   ]
  },
  {
   "cell_type": "code",
   "execution_count": 3,
   "metadata": {},
   "outputs": [],
   "source": [
    "# fix random seed for reproducibility\n",
    "seed = 7\n",
    "numpy.random.seed(seed)"
   ]
  },
  {
   "cell_type": "code",
   "execution_count": 4,
   "metadata": {},
   "outputs": [],
   "source": [
    "\n",
    "def load_data():\n",
    "    dataframe = pandas.read_csv(\"sonar.csv\", header=None)\n",
    "    dataset = dataframe.values\n",
    "    # split into input (X) and output (Y) variables\n",
    "    X = dataset[:,0:60].astype(float)\n",
    "    Y = dataset[:,60]\n",
    "    le = LabelEncoder()\n",
    "    le.fit(Y)\n",
    "    encoded_Y = le.transform(Y)\n",
    "    #X_train, X_test, Y_train, Y_test = train_test_split(X, encoded_Y, test_size=.05)\n",
    "    \n",
    "    #return (X_train, Y_train, X_test, Y_test)\n",
    "    return (X, encoded_Y, [], [])\n",
    "\n",
    "(X_train, Y_train, X_test, Y_test) = load_data()"
   ]
  },
  {
   "cell_type": "code",
   "execution_count": 5,
   "metadata": {},
   "outputs": [],
   "source": [
    "def create_baseline():\n",
    "     \n",
    "    model = Sequential()    \n",
    "    model.add(layers.Dense(60, activation='relu', input_shape=(60, )))\n",
    "    #model.add(layers.Dropout(.2))\n",
    "    model.add(layers.Dense(30, activation='relu'))\n",
    "    #model.add(layers.Dropout(.2))\n",
    "    model.add(layers.Dense(1, activation='sigmoid'))\n",
    "    sgd = SGD(lr=0.01, momentum=0.8, decay=0.0, nesterov=False)\n",
    "    model.compile(optimizer=sgd, loss='binary_crossentropy', metrics=['accuracy'])\n",
    "    return model"
   ]
  },
  {
   "cell_type": "code",
   "execution_count": 6,
   "metadata": {},
   "outputs": [],
   "source": [
    "def do_normalize(epochs=100): \n",
    "    estimators = []\n",
    "    estimators.append(('standardize', StandardScaler()))\n",
    "    estimators.append(('mlp', KerasClassifier(build_fn=create_baseline, epochs=epochs, batch_size=5, verbose=0)))\n",
    "    pipeline = Pipeline(estimators)\n",
    "    kfold = StratifiedKFold(n_splits=10, shuffle=True, random_state=seed)\n",
    "    results = cross_val_score(pipeline, X_train, Y_train, cv=kfold)\n",
    "    print(\"Standardized: %.2f%% (%.2f%%)\" % (results.mean()*100, results.std()*100))\n",
    "    #predicted = cross_val_predict(pipeline, X_test, Y_test, cv=10)\n",
    "    #print(\"Test Accuracy: %.2f%%\" % (metrics.accuracy_score(Y_test, predicted)*100))"
   ]
  },
  {
   "cell_type": "code",
   "execution_count": 7,
   "metadata": {},
   "outputs": [
    {
     "name": "stdout",
     "output_type": "stream",
     "text": [
      "Standardized: 85.97% (8.79%)\n"
     ]
    }
   ],
   "source": [
    "#(X_train, Y_train, X_test, Y_test) = load_data()\n",
    "do_normalize(100)\n"
   ]
  },
  {
   "cell_type": "code",
   "execution_count": 8,
   "metadata": {},
   "outputs": [],
   "source": [
    "def create_dropout_visible():\n",
    "    model = Sequential()    \n",
    "    model.add(layers.Dropout(0.2, input_shape=(60, )))\n",
    "    model.add(layers.Dense(60, activation='relu'))\n",
    "    model.add(layers.Dense(30, activation='relu'))\n",
    "    model.add(layers.Dense(1, activation='sigmoid'))\n",
    "    sgd = SGD(lr=0.01, momentum=0.8, decay=0.0, nesterov=False)\n",
    "    model.compile(optimizer=sgd, loss='binary_crossentropy', metrics=['accuracy'])\n",
    "    return model"
   ]
  },
  {
   "cell_type": "code",
   "execution_count": 9,
   "metadata": {},
   "outputs": [],
   "source": [
    "def do_normalize_dropout_visible(epochs=100):\n",
    "    numpy.random.seed(seed)\n",
    "    estimators = []\n",
    "    estimators.append(('standardize', StandardScaler()))\n",
    "    estimators.append(('mlp', KerasClassifier(build_fn=create_dropout_visible, epochs=epochs, batch_size=5, verbose=0)))\n",
    "    pipeline = Pipeline(estimators)\n",
    "    kfold = StratifiedKFold(n_splits=10, shuffle=True, random_state=seed)\n",
    "    results = cross_val_score(pipeline, X_train, Y_train, cv=kfold)\n",
    "    print(\"Visible: %.2f%% (%.2f%%)\" % (results.mean()*100, results.std()*100))\n",
    "    #predicted = cross_val_predict(pipeline, X_test, Y_test, cv=10)\n",
    "    #print(\"Test Accuracy: %.2f%%\" % (metrics.accuracy_score(Y_test, predicted)*100))"
   ]
  },
  {
   "cell_type": "code",
   "execution_count": 10,
   "metadata": {},
   "outputs": [
    {
     "name": "stdout",
     "output_type": "stream",
     "text": [
      "Visible: 85.13% (6.46%)\n"
     ]
    }
   ],
   "source": [
    "#(X_train, Y_train, X_test, Y_test) = load_data()\n",
    "do_normalize_dropout_visible(100)"
   ]
  },
  {
   "cell_type": "code",
   "execution_count": 11,
   "metadata": {},
   "outputs": [],
   "source": [
    "max_norm = tf.keras.constraints.max_norm\n",
    "def create_dropout_visible2():\n",
    "    model = Sequential()    \n",
    "    model.add(layers.Dropout(0.2, input_shape=(60, )))\n",
    "    model.add(layers.Dense(60, activation='relu', kernel_constraint=max_norm(3.)))\n",
    "    model.add(layers.Dense(30, activation='relu', kernel_constraint=max_norm(3.)))\n",
    "    model.add(layers.Dense(1, activation='sigmoid'))\n",
    "    sgd = SGD(lr=0.1, momentum=0.9, decay=0.0, nesterov=False)\n",
    "    model.compile(optimizer=sgd, loss='binary_crossentropy', metrics=['accuracy'])\n",
    "    return model\n"
   ]
  },
  {
   "cell_type": "code",
   "execution_count": 12,
   "metadata": {},
   "outputs": [],
   "source": [
    "def do_normalize_dropout_visible2(epochs=100):\n",
    "    numpy.random.seed(seed)\n",
    "    estimators = []\n",
    "    estimators.append(('standardize', StandardScaler()))\n",
    "    estimators.append(('mlp', KerasClassifier(build_fn=create_dropout_visible2, epochs=epochs, batch_size=5, verbose=0)))\n",
    "    pipeline = Pipeline(estimators)\n",
    "    kfold = StratifiedKFold(n_splits=10, shuffle=True, random_state=seed)\n",
    "    results = cross_val_score(pipeline, X_train, Y_train, cv=kfold)\n",
    "    print(\"Visible 2: %.2f%% (%.2f%%)\" % (results.mean()*100, results.std()*100)) "
   ]
  },
  {
   "cell_type": "code",
   "execution_count": 13,
   "metadata": {},
   "outputs": [
    {
     "name": "stdout",
     "output_type": "stream",
     "text": [
      "Visible 2: 49.52% (3.57%)\n"
     ]
    }
   ],
   "source": [
    "do_normalize_dropout_visible2(100)"
   ]
  },
  {
   "cell_type": "code",
   "execution_count": 14,
   "metadata": {},
   "outputs": [],
   "source": [
    "def create_dropout_hidden():\n",
    "    model = Sequential() \n",
    "    model.add(layers.Dense(60, activation='relu', kernel_constraint=max_norm(3.), input_shape=(60, )))\n",
    "    model.add(layers.Dropout(.2))\n",
    "    model.add(layers.Dense(30, activation='relu', kernel_constraint=max_norm(3.)))\n",
    "    model.add(layers.Dropout(.2))\n",
    "    model.add(layers.Dense(1, activation='sigmoid'))\n",
    "    sgd = SGD(lr=0.1, momentum=0.9, decay=0.0, nesterov=False)\n",
    "    model.compile(optimizer=sgd, loss='binary_crossentropy', metrics=['accuracy'])\n",
    "    return model"
   ]
  },
  {
   "cell_type": "code",
   "execution_count": 15,
   "metadata": {},
   "outputs": [],
   "source": [
    "def do_normalize_dropout_hidden(epochs=100):\n",
    "    numpy.random.seed(seed)\n",
    "    estimators = []\n",
    "    estimators.append(('standardize', StandardScaler()))\n",
    "    estimators.append(('mlp', KerasClassifier(build_fn=create_dropout_hidden, epochs=epochs, batch_size=5, verbose=0)))\n",
    "    pipeline = Pipeline(estimators)\n",
    "    kfold = StratifiedKFold(n_splits=10, shuffle=True, random_state=seed)\n",
    "    results = cross_val_score(pipeline, X_train, Y_train, cv=kfold)\n",
    "    print(\"Hidden: %.2f%% (%.2f%%)\" % (results.mean()*100, results.std()*100)) "
   ]
  },
  {
   "cell_type": "code",
   "execution_count": 16,
   "metadata": {},
   "outputs": [
    {
     "name": "stdout",
     "output_type": "stream",
     "text": [
      "Hidden: 49.52% (3.57%)\n"
     ]
    }
   ],
   "source": [
    "do_normalize_dropout_hidden(100)"
   ]
  },
  {
   "cell_type": "code",
   "execution_count": 17,
   "metadata": {},
   "outputs": [],
   "source": [
    "dropout = .2\n",
    "def create_dropout_multiple_dropout():\n",
    "    model = Sequential() \n",
    "    model.add(layers.Dense(60, activation='relu', kernel_constraint=max_norm(3.), input_shape=(60, )))\n",
    "    model.add(layers.Dropout(dropout))\n",
    "    model.add(layers.Dense(30, activation='relu', kernel_constraint=max_norm(3.)))\n",
    "    model.add(layers.Dropout(dropout))\n",
    "    model.add(layers.Dense(1, activation='sigmoid'))\n",
    "    sgd = SGD(lr=0.1, momentum=0.9, decay=0.0, nesterov=False)\n",
    "    model.compile(optimizer=sgd, loss='binary_crossentropy', metrics=['accuracy'])\n",
    "    return model"
   ]
  },
  {
   "cell_type": "code",
   "execution_count": 18,
   "metadata": {},
   "outputs": [],
   "source": [
    "def do_normalize_multiple_dropout(epochs=100, dout = .2):\n",
    "    dropout = dout\n",
    "    numpy.random.seed(seed)\n",
    "    estimators = []\n",
    "    estimators.append(('standardize', StandardScaler()))\n",
    "    estimators.append(('mlp', KerasClassifier(build_fn=create_dropout_multiple_dropout, epochs=epochs, batch_size=5, verbose=0)))\n",
    "    pipeline = Pipeline(estimators)\n",
    "    kfold = StratifiedKFold(n_splits=10, shuffle=True, random_state=seed)\n",
    "    results = cross_val_score(pipeline, X_train, Y_train, cv=kfold)\n",
    "    print(\"DropOut %.2f\" % (dropout))\n",
    "    print(\"Hidden: %.2f%% (%.2f%%)\" % (results.mean()*100, results.std()*100)) "
   ]
  },
  {
   "cell_type": "code",
   "execution_count": 19,
   "metadata": {},
   "outputs": [
    {
     "name": "stdout",
     "output_type": "stream",
     "text": [
      "DropOut 0.30\n",
      "Hidden: 50.00% (3.60%)\n",
      "DropOut 0.40\n",
      "Hidden: 51.00% (3.46%)\n",
      "DropOut 0.50\n",
      "Hidden: 49.52% (3.57%)\n"
     ]
    }
   ],
   "source": [
    "do_normalize_multiple_dropout(100, .3)\n",
    "do_normalize_multiple_dropout(100, .4)\n",
    "do_normalize_multiple_dropout(100, .5)\n"
   ]
  },
  {
   "cell_type": "code",
   "execution_count": 20,
   "metadata": {},
   "outputs": [],
   "source": [
    "dropout = .2\n",
    "def create_dropout_larger():\n",
    "    model = Sequential() \n",
    "    model.add(layers.Dense(60, activation='relu', kernel_constraint=max_norm(3.), input_shape=(60, )))\n",
    "    model.add(layers.Dropout(dropout))\n",
    "    model.add(layers.Dense(40, activation='relu', kernel_constraint=max_norm(3.)))\n",
    "    model.add(layers.Dropout(dropout))\n",
    "    model.add(layers.Dense(20, activation='relu', kernel_constraint=max_norm(3.)))\n",
    "    model.add(layers.Dropout(dropout))\n",
    "    model.add(layers.Dense(1, activation='sigmoid'))\n",
    "    sgd = SGD(lr=0.1, momentum=0.9, decay=0.0, nesterov=False)\n",
    "    model.compile(optimizer=sgd, loss='binary_crossentropy', metrics=['accuracy'])\n",
    "    return model"
   ]
  },
  {
   "cell_type": "code",
   "execution_count": 21,
   "metadata": {},
   "outputs": [],
   "source": [
    "def do_normalize_larger(epochs=100, dout = .2):\n",
    "    dropout = dout\n",
    "    numpy.random.seed(seed)\n",
    "    estimators = []\n",
    "    estimators.append(('standardize', StandardScaler()))\n",
    "    estimators.append(('mlp', KerasClassifier(build_fn=create_dropout_larger, epochs=epochs, batch_size=5, verbose=0)))\n",
    "    pipeline = Pipeline(estimators)\n",
    "    kfold = StratifiedKFold(n_splits=10, shuffle=True, random_state=seed)\n",
    "    results = cross_val_score(pipeline, X_train, Y_train, cv=kfold)\n",
    "    print(\"DropOut %.2f\" % (dropout))\n",
    "    print(\"Larger: %.2f%% (%.2f%%)\" % (results.mean()*100, results.std()*100)) "
   ]
  },
  {
   "cell_type": "code",
   "execution_count": 22,
   "metadata": {},
   "outputs": [
    {
     "name": "stdout",
     "output_type": "stream",
     "text": [
      "DropOut 0.30\n",
      "Larger: 49.05% (3.47%)\n"
     ]
    }
   ],
   "source": [
    "do_normalize_larger(100, 0.3)"
   ]
  },
  {
   "cell_type": "code",
   "execution_count": 23,
   "metadata": {},
   "outputs": [],
   "source": [
    "dropout = 0.2\n",
    "def create_dropout_mix():\n",
    "    model = Sequential()    \n",
    "    model.add(layers.Dropout(0.2, input_shape=(60, )))\n",
    "    model.add(layers.Dense(60, activation='relu'))\n",
    "    model.add(layers.Dropout(dropout))\n",
    "    model.add(layers.Dense(30, activation='relu'))\n",
    "    model.add(layers.Dropout(dropout))\n",
    "    model.add(layers.Dense(1, activation='sigmoid'))\n",
    "    sgd = SGD(lr=0.01, momentum=0.8, decay=0.0, nesterov=False)\n",
    "    model.compile(optimizer=sgd, loss='binary_crossentropy', metrics=['accuracy'])\n",
    "    return model"
   ]
  },
  {
   "cell_type": "code",
   "execution_count": 24,
   "metadata": {},
   "outputs": [],
   "source": [
    "def do_normalize_mix(epochs=100, dout = .2):\n",
    "    dropout = dout\n",
    "    numpy.random.seed(seed)\n",
    "    estimators = []\n",
    "    estimators.append(('standardize', StandardScaler()))\n",
    "    estimators.append(('mlp', KerasClassifier(build_fn=create_dropout_mix, epochs=epochs, batch_size=5, verbose=0)))\n",
    "    pipeline = Pipeline(estimators)\n",
    "    kfold = StratifiedKFold(n_splits=10, shuffle=True, random_state=seed)\n",
    "    results = cross_val_score(pipeline, X_train, Y_train, cv=kfold)\n",
    "    print(\"DropOut %.2f\" % (dropout))\n",
    "    print(\"Mix: %.2f%% (%.2f%%)\" % (results.mean()*100, results.std()*100)) "
   ]
  },
  {
   "cell_type": "code",
   "execution_count": 25,
   "metadata": {},
   "outputs": [
    {
     "name": "stdout",
     "output_type": "stream",
     "text": [
      "DropOut 0.40\n",
      "Mix: 87.38% (7.84%)\n"
     ]
    }
   ],
   "source": [
    "do_normalize_mix(100, .4)"
   ]
  },
  {
   "cell_type": "code",
   "execution_count": 26,
   "metadata": {},
   "outputs": [],
   "source": [
    "dropout = 0.2\n",
    "max_weight = 4\n",
    "def create_dropout_maxnorm():\n",
    "    model = Sequential()    \n",
    "    model.add(layers.Dropout(0.2, input_shape=(60, )))\n",
    "    model.add(layers.Dense(60, activation='relu', kernel_constraint=max_norm(max_weight)))\n",
    "    model.add(layers.Dropout(dropout))\n",
    "    model.add(layers.Dense(30, activation='relu', kernel_constraint=max_norm(max_weight)))\n",
    "    model.add(layers.Dropout(dropout))\n",
    "    model.add(layers.Dense(1, activation='sigmoid', kernel_constraint=max_norm(max_weight)))\n",
    "    sgd = SGD(lr=0.01, momentum=0.95, decay=0.0, nesterov=False)\n",
    "    model.compile(optimizer=sgd, loss='binary_crossentropy', metrics=['accuracy'])\n",
    "    return model"
   ]
  },
  {
   "cell_type": "code",
   "execution_count": 27,
   "metadata": {},
   "outputs": [],
   "source": [
    "def do_normalize_maxnorm(epochs=100, dout = .2, maxweigth=3):\n",
    "    dropout = dout\n",
    "    max_weight = maxweigth\n",
    "    numpy.random.seed(seed)\n",
    "    estimators = []\n",
    "    estimators.append(('standardize', StandardScaler()))\n",
    "    estimators.append(('mlp', KerasClassifier(build_fn=create_dropout_mix, epochs=epochs, batch_size=5, verbose=0)))\n",
    "    pipeline = Pipeline(estimators)\n",
    "    kfold = StratifiedKFold(n_splits=10, shuffle=True, random_state=seed)\n",
    "    results = cross_val_score(pipeline, X_train, Y_train, cv=kfold)\n",
    "    print(\"MaxNorm %.2f\" % (max_weight))\n",
    "    print(\"DropOut %.2f\" % (dropout))\n",
    "    print(\"MaxNorm: %.2f%% (%.2f%%)\" % (results.mean()*100, results.std()*100)) "
   ]
  },
  {
   "cell_type": "code",
   "execution_count": null,
   "metadata": {},
   "outputs": [
    {
     "name": "stdout",
     "output_type": "stream",
     "text": [
      "MaxNorm 3.00\n",
      "DropOut 0.20\n",
      "MaxNorm: 86.52% (6.00%)\n",
      "MaxNorm 4.00\n",
      "DropOut 0.20\n",
      "MaxNorm: 84.09% (5.46%)\n"
     ]
    }
   ],
   "source": [
    "do_normalize_maxnorm(100, .2, 3)\n",
    "do_normalize_maxnorm(100, .2, 4)\n",
    "do_normalize_maxnorm(100, .2, 5)"
   ]
  },
  {
   "cell_type": "code",
   "execution_count": null,
   "metadata": {},
   "outputs": [],
   "source": []
  }
 ],
 "metadata": {
  "kernelspec": {
   "display_name": "Python 3",
   "language": "python",
   "name": "python3"
  },
  "language_info": {
   "codemirror_mode": {
    "name": "ipython",
    "version": 3
   },
   "file_extension": ".py",
   "mimetype": "text/x-python",
   "name": "python",
   "nbconvert_exporter": "python",
   "pygments_lexer": "ipython3",
   "version": "3.5.2"
  }
 },
 "nbformat": 4,
 "nbformat_minor": 2
}
